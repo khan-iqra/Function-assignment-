{
  "nbformat": 4,
  "nbformat_minor": 0,
  "metadata": {
    "colab": {
      "provenance": []
    },
    "kernelspec": {
      "name": "python3",
      "display_name": "Python 3"
    },
    "language_info": {
      "name": "python"
    }
  },
  "cells": [
    {
      "cell_type": "markdown",
      "source": [
        "**THEORY**"
      ],
      "metadata": {
        "id": "NnyGIqLihyfm"
      }
    },
    {
      "cell_type": "markdown",
      "source": [
        "1. What is the difference between a function and a method in Python?\n",
        "   -Functions can be called only by its name, as it is defined independently. But methods can't be called by its name only, we need to invoke the class by a reference of that class in which it is defined, i.e. method is defined within a class and hence they are dependent on that class.\n",
        "2. Explain the concept of function arguments and parameters in Python.\n",
        "   - In Python, the terms \"arguments\" and \"parameters\" are distinct concepts related to functions:\n",
        "\n",
        "   Parameters: These are the variables listed inside the parentheses in a function's def statement (its definition).Parameters act as placeholders for the values that the function expects to receive when it is called. They define the inputs the function can accept and are part of the function's signature.\n",
        "\n",
        "   Arguments: These are the actual values or expressions passed to a function when it is called. When a function is invoked, the arguments provided are assigned to the corresponding parameters in the function's definition.\n",
        "3. What are the different ways to define and call a function in Python?\n",
        "   - You can define a Python function with the def keyword, followed by the function name, parentheses with optional parameters, a colon, and then an indented code block. You call a Python function by writing its name followed by parentheses, enclosing any necessary arguments, to execute its code block.\n",
        "4. What is the purpose of the `return` statement in a Python function?\n",
        "   - The purpose of the return statement in a Python function is to send a value or set of values back to the caller of the function. When a return statement is encountered during function execution, the function immediately stops and the specified value(s) are passed back to the point in the code where the function was called.\n",
        "5. What are iterators in Python and how do they differ from iterables?\n",
        "   - In Python, iterators are objects that represent a stream of data and implement the iterator protocol, which consists of the __iter__() and __next__() methods. The __next__() method is used to retrieve the next item from the sequence, and it raises a StopIteration exception when there are no more items. Iterators maintain an internal state, allowing them to keep track of their position during iteration.\n",
        "6. Explain the concept of generators in Python and how they are defined.\n",
        "   - Generators in Python are a special type of iterable that allow for memory-efficient and lazy evaluation of sequences. Unlike regular functions that compute and return all values at once, generators yield values one at a time as they are requested, pausing their execution state between yields. This makes them ideal for working with large datasets or infinite sequences where storing all values in memory simultaneously would be impractical or impossible.\n",
        "7. What are the advantages of using generators over regular functions?\n",
        "   - There are many advantages to using generators in Python, such as improved memory management, time savings, and flexibility. Generators can also produce infinite sequences and are more readable than traditional loops.       \n",
        "8. What is a lambda function in Python and when is it typically used?\n",
        "   - A lambda function in Python is a small, anonymous function defined using the lambda keyword. Unlike a regular function defined with def, a lambda function does not have a name and is restricted to a single expression, which is implicitly returned.\n",
        "9. Explain the purpose and usage of the `map()` function in Python.\n",
        "   - The map() function in Python is a built-in higher-order function used to apply a specified function to each item in an iterable (such as a list, tuple, or set), returning an iterator that yields the results.\n",
        "10. What is the difference between `map()`, `reduce()`, and `filter()` functions in Python?\n",
        "  -  The map(), filter(), and reduce() functions in Python are powerful tools for functional programming, each serving a distinct purpose in transforming and processing iterables.\n",
        "\n",
        "  map(): This function applies a given function to each item in an iterable (like a list or tuple) and returns a new iterable containing the results. It's used for transformation, where you want to change each element in a collection based on a specific rule.\n",
        "\n",
        "  filter(): This function constructs an iterator from elements of an iterable for which a function returns true. It's used for selection, where you want to keep only the elements that satisfy a certain condition.\n",
        "\n",
        "  reduce(): This function, found in the functools module, applies a function of two arguments cumulatively to the items of a sequence, from left to right, so as to reduce the sequence to a single value. It's used for aggregation, where you want to combine all elements into a single result.\n",
        "11. 11. Using pen & Paper write the internal mechanism for sum operation using  reduce function on this given\n",
        "list:[47,11,42,13];\n",
        "  -           \\\\\\\\\\\\\\"
      ],
      "metadata": {
        "id": "k2e8D_Eth1MX"
      }
    },
    {
      "cell_type": "markdown",
      "source": [
        "**PRACTICAL**"
      ],
      "metadata": {
        "id": "yuYmfcDyiDAd"
      }
    },
    {
      "cell_type": "markdown",
      "source": [
        "1. Write a Python function that takes a list of numbers as input and returns the sum of all even numbers in\n",
        "the list."
      ],
      "metadata": {
        "id": "FJTPiHJ9iPfo"
      }
    },
    {
      "cell_type": "code",
      "source": [
        "def even_number(n):\n",
        "  result=[]\n",
        "  for i in range (n):\n",
        "    result.append(i*2)\n",
        "  return result\n",
        "even_number(10)"
      ],
      "metadata": {
        "colab": {
          "base_uri": "https://localhost:8080/"
        },
        "id": "sxEC5kgEiTZN",
        "outputId": "bc622ee6-34bc-4007-e1f1-7aaf37f59324"
      },
      "execution_count": null,
      "outputs": [
        {
          "output_type": "execute_result",
          "data": {
            "text/plain": [
              "[0, 2, 4, 6, 8, 10, 12, 14, 16, 18]"
            ]
          },
          "metadata": {},
          "execution_count": 2
        }
      ]
    },
    {
      "cell_type": "markdown",
      "source": [
        "2. Create a Python function that accepts a string and returns the reverse of that string."
      ],
      "metadata": {
        "id": "nT6WC89fjCLY"
      }
    },
    {
      "cell_type": "code",
      "source": [
        "s=\"pwskills\"\n",
        "s[::-1]"
      ],
      "metadata": {
        "colab": {
          "base_uri": "https://localhost:8080/",
          "height": 35
        },
        "id": "PEg82cGLGBTO",
        "outputId": "8416620f-4228-4b0a-d24c-d2e83ffd70df"
      },
      "execution_count": null,
      "outputs": [
        {
          "output_type": "execute_result",
          "data": {
            "text/plain": [
              "'sllikswp'"
            ],
            "application/vnd.google.colaboratory.intrinsic+json": {
              "type": "string"
            }
          },
          "metadata": {},
          "execution_count": 63
        }
      ]
    },
    {
      "cell_type": "markdown",
      "source": [
        "3. Implement a Python function that takes a list of integers and returns a new list containing the squares of\n",
        "each number."
      ],
      "metadata": {
        "id": "hGuwKM-WGb3B"
      }
    },
    {
      "cell_type": "code",
      "source": [
        "def square_numbers(n):\n",
        "  result = []\n",
        "  for i in n:\n",
        "    result.append(i**2)\n",
        "  return result\n",
        "square_numbers([5,10,15,20])"
      ],
      "metadata": {
        "colab": {
          "base_uri": "https://localhost:8080/"
        },
        "id": "bS0cLP-IGdTc",
        "outputId": "5a38f46e-c1f5-4f3e-9ef4-7ea6948f204d"
      },
      "execution_count": null,
      "outputs": [
        {
          "output_type": "execute_result",
          "data": {
            "text/plain": [
              "[25, 100, 225, 400]"
            ]
          },
          "metadata": {},
          "execution_count": 68
        }
      ]
    },
    {
      "cell_type": "markdown",
      "source": [
        "4. Write a Python function that checks if a given number is prime or not from 1 to 200."
      ],
      "metadata": {
        "id": "OtiwIj9YH42f"
      }
    },
    {
      "cell_type": "code",
      "source": [
        "def is_prime(num):\n",
        "  if num <=1:\n",
        "    return False\n",
        "  for i in range(2, int(num**0.5)+ 1):\n",
        "    if num % i ==0:\n",
        "      return False\n",
        "  return True"
      ],
      "metadata": {
        "id": "u8KpXZOzJHFb"
      },
      "execution_count": null,
      "outputs": []
    },
    {
      "cell_type": "code",
      "source": [
        "for number in range(1, 201):\n",
        "  if is_prime(number):\n",
        "    print(f\"{number} is prime number.\")\n",
        "  else:\n",
        "    print(f\"{number} is not a prime number.\")"
      ],
      "metadata": {
        "colab": {
          "base_uri": "https://localhost:8080/"
        },
        "id": "_YsmRQK4KLK2",
        "outputId": "1b41676b-e21c-4e51-d3eb-53cd887bff7c"
      },
      "execution_count": null,
      "outputs": [
        {
          "output_type": "stream",
          "name": "stdout",
          "text": [
            "1 is not a prime number.\n",
            "2 is prime number.\n",
            "3 is prime number.\n",
            "4 is not a prime number.\n",
            "5 is prime number.\n",
            "6 is not a prime number.\n",
            "7 is prime number.\n",
            "8 is not a prime number.\n",
            "9 is not a prime number.\n",
            "10 is not a prime number.\n",
            "11 is prime number.\n",
            "12 is not a prime number.\n",
            "13 is prime number.\n",
            "14 is not a prime number.\n",
            "15 is not a prime number.\n",
            "16 is not a prime number.\n",
            "17 is prime number.\n",
            "18 is not a prime number.\n",
            "19 is prime number.\n",
            "20 is not a prime number.\n",
            "21 is not a prime number.\n",
            "22 is not a prime number.\n",
            "23 is prime number.\n",
            "24 is not a prime number.\n",
            "25 is not a prime number.\n",
            "26 is not a prime number.\n",
            "27 is not a prime number.\n",
            "28 is not a prime number.\n",
            "29 is prime number.\n",
            "30 is not a prime number.\n",
            "31 is prime number.\n",
            "32 is not a prime number.\n",
            "33 is not a prime number.\n",
            "34 is not a prime number.\n",
            "35 is not a prime number.\n",
            "36 is not a prime number.\n",
            "37 is prime number.\n",
            "38 is not a prime number.\n",
            "39 is not a prime number.\n",
            "40 is not a prime number.\n",
            "41 is prime number.\n",
            "42 is not a prime number.\n",
            "43 is prime number.\n",
            "44 is not a prime number.\n",
            "45 is not a prime number.\n",
            "46 is not a prime number.\n",
            "47 is prime number.\n",
            "48 is not a prime number.\n",
            "49 is not a prime number.\n",
            "50 is not a prime number.\n",
            "51 is not a prime number.\n",
            "52 is not a prime number.\n",
            "53 is prime number.\n",
            "54 is not a prime number.\n",
            "55 is not a prime number.\n",
            "56 is not a prime number.\n",
            "57 is not a prime number.\n",
            "58 is not a prime number.\n",
            "59 is prime number.\n",
            "60 is not a prime number.\n",
            "61 is prime number.\n",
            "62 is not a prime number.\n",
            "63 is not a prime number.\n",
            "64 is not a prime number.\n",
            "65 is not a prime number.\n",
            "66 is not a prime number.\n",
            "67 is prime number.\n",
            "68 is not a prime number.\n",
            "69 is not a prime number.\n",
            "70 is not a prime number.\n",
            "71 is prime number.\n",
            "72 is not a prime number.\n",
            "73 is prime number.\n",
            "74 is not a prime number.\n",
            "75 is not a prime number.\n",
            "76 is not a prime number.\n",
            "77 is not a prime number.\n",
            "78 is not a prime number.\n",
            "79 is prime number.\n",
            "80 is not a prime number.\n",
            "81 is not a prime number.\n",
            "82 is not a prime number.\n",
            "83 is prime number.\n",
            "84 is not a prime number.\n",
            "85 is not a prime number.\n",
            "86 is not a prime number.\n",
            "87 is not a prime number.\n",
            "88 is not a prime number.\n",
            "89 is prime number.\n",
            "90 is not a prime number.\n",
            "91 is not a prime number.\n",
            "92 is not a prime number.\n",
            "93 is not a prime number.\n",
            "94 is not a prime number.\n",
            "95 is not a prime number.\n",
            "96 is not a prime number.\n",
            "97 is prime number.\n",
            "98 is not a prime number.\n",
            "99 is not a prime number.\n",
            "100 is not a prime number.\n",
            "101 is prime number.\n",
            "102 is not a prime number.\n",
            "103 is prime number.\n",
            "104 is not a prime number.\n",
            "105 is not a prime number.\n",
            "106 is not a prime number.\n",
            "107 is prime number.\n",
            "108 is not a prime number.\n",
            "109 is prime number.\n",
            "110 is not a prime number.\n",
            "111 is not a prime number.\n",
            "112 is not a prime number.\n",
            "113 is prime number.\n",
            "114 is not a prime number.\n",
            "115 is not a prime number.\n",
            "116 is not a prime number.\n",
            "117 is not a prime number.\n",
            "118 is not a prime number.\n",
            "119 is not a prime number.\n",
            "120 is not a prime number.\n",
            "121 is not a prime number.\n",
            "122 is not a prime number.\n",
            "123 is not a prime number.\n",
            "124 is not a prime number.\n",
            "125 is not a prime number.\n",
            "126 is not a prime number.\n",
            "127 is prime number.\n",
            "128 is not a prime number.\n",
            "129 is not a prime number.\n",
            "130 is not a prime number.\n",
            "131 is prime number.\n",
            "132 is not a prime number.\n",
            "133 is not a prime number.\n",
            "134 is not a prime number.\n",
            "135 is not a prime number.\n",
            "136 is not a prime number.\n",
            "137 is prime number.\n",
            "138 is not a prime number.\n",
            "139 is prime number.\n",
            "140 is not a prime number.\n",
            "141 is not a prime number.\n",
            "142 is not a prime number.\n",
            "143 is not a prime number.\n",
            "144 is not a prime number.\n",
            "145 is not a prime number.\n",
            "146 is not a prime number.\n",
            "147 is not a prime number.\n",
            "148 is not a prime number.\n",
            "149 is prime number.\n",
            "150 is not a prime number.\n",
            "151 is prime number.\n",
            "152 is not a prime number.\n",
            "153 is not a prime number.\n",
            "154 is not a prime number.\n",
            "155 is not a prime number.\n",
            "156 is not a prime number.\n",
            "157 is prime number.\n",
            "158 is not a prime number.\n",
            "159 is not a prime number.\n",
            "160 is not a prime number.\n",
            "161 is not a prime number.\n",
            "162 is not a prime number.\n",
            "163 is prime number.\n",
            "164 is not a prime number.\n",
            "165 is not a prime number.\n",
            "166 is not a prime number.\n",
            "167 is prime number.\n",
            "168 is not a prime number.\n",
            "169 is not a prime number.\n",
            "170 is not a prime number.\n",
            "171 is not a prime number.\n",
            "172 is not a prime number.\n",
            "173 is prime number.\n",
            "174 is not a prime number.\n",
            "175 is not a prime number.\n",
            "176 is not a prime number.\n",
            "177 is not a prime number.\n",
            "178 is not a prime number.\n",
            "179 is prime number.\n",
            "180 is not a prime number.\n",
            "181 is prime number.\n",
            "182 is not a prime number.\n",
            "183 is not a prime number.\n",
            "184 is not a prime number.\n",
            "185 is not a prime number.\n",
            "186 is not a prime number.\n",
            "187 is not a prime number.\n",
            "188 is not a prime number.\n",
            "189 is not a prime number.\n",
            "190 is not a prime number.\n",
            "191 is prime number.\n",
            "192 is not a prime number.\n",
            "193 is prime number.\n",
            "194 is not a prime number.\n",
            "195 is not a prime number.\n",
            "196 is not a prime number.\n",
            "197 is prime number.\n",
            "198 is not a prime number.\n",
            "199 is prime number.\n",
            "200 is not a prime number.\n"
          ]
        }
      ]
    },
    {
      "cell_type": "markdown",
      "source": [
        "5. Create an iterator class in Python that generates the Fibonacci sequence up to a specified number of\n",
        "terms"
      ],
      "metadata": {
        "id": "aDDEUFLPK4RO"
      }
    },
    {
      "cell_type": "code",
      "source": [
        "fib= lambda n: n if n<=1 else fib(n-1)+fib(n-2)\n",
        "[fib(i) for i in range (10)]"
      ],
      "metadata": {
        "colab": {
          "base_uri": "https://localhost:8080/"
        },
        "id": "8igquXzpMSi7",
        "outputId": "a6fe8a28-39ac-4146-962c-357d2284fa31"
      },
      "execution_count": null,
      "outputs": [
        {
          "output_type": "execute_result",
          "data": {
            "text/plain": [
              "[0, 1, 1, 2, 3, 5, 8, 13, 21, 34]"
            ]
          },
          "metadata": {},
          "execution_count": 84
        }
      ]
    },
    {
      "cell_type": "markdown",
      "source": [
        "7. Implement a generator function that reads a file line by line and yields each line as a string."
      ],
      "metadata": {
        "id": "UDDXdPV3QXdV"
      }
    },
    {
      "cell_type": "markdown",
      "source": [
        "8. Use a lambda function in Python to sort a list of tuples based on the second element of each tuple."
      ],
      "metadata": {
        "id": "lOquqKCdSYkv"
      }
    },
    {
      "cell_type": "code",
      "source": [
        "t = ((1,2,3),(4,5,6))\n",
        "lambda x: sort , t\n"
      ],
      "metadata": {
        "colab": {
          "base_uri": "https://localhost:8080/",
          "height": 106
        },
        "id": "oXNPwTtlSeQ9",
        "outputId": "e34e9766-d21b-40c4-c458-b4d9ee7bf15d"
      },
      "execution_count": null,
      "outputs": [
        {
          "output_type": "error",
          "ename": "SyntaxError",
          "evalue": "invalid syntax (ipython-input-1129243667.py, line 2)",
          "traceback": [
            "\u001b[0;36m  File \u001b[0;32m\"/tmp/ipython-input-1129243667.py\"\u001b[0;36m, line \u001b[0;32m2\u001b[0m\n\u001b[0;31m    lambda x: sort 2, t\u001b[0m\n\u001b[0m                   ^\u001b[0m\n\u001b[0;31mSyntaxError\u001b[0m\u001b[0;31m:\u001b[0m invalid syntax\n"
          ]
        }
      ]
    },
    {
      "cell_type": "markdown",
      "source": [
        "9. Write a Python program that uses `map()` to convert a list of temperatures from Celsius to Fahrenheit"
      ],
      "metadata": {
        "id": "atHgXi-nUpyd"
      }
    },
    {
      "cell_type": "code",
      "source": [
        "def celsius_to_fahrenheit(celsius_temp):\n",
        "  return (celsius_temp * 9/5) + 32\n",
        "celsius_temperatures = [0, 20, 37, 100]\n",
        "fahrenheit_temperatures = map(celsius_to_fahrenheit, celsius_temperatures)\n"
      ],
      "metadata": {
        "id": "3gNFDQdyUrIz"
      },
      "execution_count": null,
      "outputs": []
    },
    {
      "cell_type": "markdown",
      "source": [
        "10. Create a Python program that uses `filter()` to remove all the vowels from a given string."
      ],
      "metadata": {
        "id": "Y2zxJUveVmZ9"
      }
    },
    {
      "cell_type": "code",
      "source": [
        "a=list(\"sample\")\n",
        "def vowel(x):\n",
        "    v=('a','e','i','o','u')\n",
        "    return x in v\n",
        "\n",
        "b=list(filter(vowel,a))\n",
        "print(\"Vowels : \",b)\n",
        "print(\"No of Vowels : \",len(b))"
      ],
      "metadata": {
        "colab": {
          "base_uri": "https://localhost:8080/",
          "height": 211
        },
        "id": "sa4DvsJYVrya",
        "outputId": "b6d459a0-d0f4-48ec-f16a-09b985aeb399"
      },
      "execution_count": null,
      "outputs": [
        {
          "output_type": "error",
          "ename": "TypeError",
          "evalue": "'map' object is not callable",
          "traceback": [
            "\u001b[0;31m---------------------------------------------------------------------------\u001b[0m",
            "\u001b[0;31mTypeError\u001b[0m                                 Traceback (most recent call last)",
            "\u001b[0;32m/tmp/ipython-input-914125111.py\u001b[0m in \u001b[0;36m<cell line: 0>\u001b[0;34m()\u001b[0m\n\u001b[0;32m----> 1\u001b[0;31m \u001b[0ma\u001b[0m\u001b[0;34m=\u001b[0m\u001b[0mlist\u001b[0m\u001b[0;34m(\u001b[0m\u001b[0;34m\"sample\"\u001b[0m\u001b[0;34m)\u001b[0m\u001b[0;34m\u001b[0m\u001b[0;34m\u001b[0m\u001b[0m\n\u001b[0m\u001b[1;32m      2\u001b[0m \u001b[0;32mdef\u001b[0m \u001b[0mvowel\u001b[0m\u001b[0;34m(\u001b[0m\u001b[0mx\u001b[0m\u001b[0;34m)\u001b[0m\u001b[0;34m:\u001b[0m\u001b[0;34m\u001b[0m\u001b[0;34m\u001b[0m\u001b[0m\n\u001b[1;32m      3\u001b[0m     \u001b[0mv\u001b[0m\u001b[0;34m=\u001b[0m\u001b[0;34m(\u001b[0m\u001b[0;34m'a'\u001b[0m\u001b[0;34m,\u001b[0m\u001b[0;34m'e'\u001b[0m\u001b[0;34m,\u001b[0m\u001b[0;34m'i'\u001b[0m\u001b[0;34m,\u001b[0m\u001b[0;34m'o'\u001b[0m\u001b[0;34m,\u001b[0m\u001b[0;34m'u'\u001b[0m\u001b[0;34m)\u001b[0m\u001b[0;34m\u001b[0m\u001b[0;34m\u001b[0m\u001b[0m\n\u001b[1;32m      4\u001b[0m     \u001b[0;32mreturn\u001b[0m \u001b[0mx\u001b[0m \u001b[0;32min\u001b[0m \u001b[0mv\u001b[0m\u001b[0;34m\u001b[0m\u001b[0;34m\u001b[0m\u001b[0m\n\u001b[1;32m      5\u001b[0m \u001b[0;34m\u001b[0m\u001b[0m\n",
            "\u001b[0;31mTypeError\u001b[0m: 'map' object is not callable"
          ]
        }
      ]
    },
    {
      "cell_type": "markdown",
      "source": [
        "11) Imagine an accounting routine used in a book shop. It works on a list with sublists, which look like this:\n",
        "\n",
        "\n",
        "\n",
        "Write a Python program, which returns a list with 2-tuples. Each tuple consists of the order number and the\n",
        "product of the price per item and the quantity. The product should be increased by 10,- € if the value of the\n",
        "order is smaller than 100,00 €.\n",
        "\n",
        "Write a Python program using lambda and map"
      ],
      "metadata": {
        "id": "tsVSOnvOWaWR"
      }
    },
    {
      "cell_type": "code",
      "source": [],
      "metadata": {
        "id": "zAIxxNxsWZ8U"
      },
      "execution_count": null,
      "outputs": []
    }
  ]
}